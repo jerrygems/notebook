{
 "cells": [
  {
   "cell_type": "code",
   "execution_count": 2,
   "id": "a0319230",
   "metadata": {},
   "outputs": [
    {
     "name": "stdout",
     "output_type": "stream",
     "text": [
      "8,25,11,21,12,22,12,21,13,23,11,26,15,27\n"
     ]
    },
    {
     "ename": "NameError",
     "evalue": "name 'np' is not defined",
     "output_type": "error",
     "traceback": [
      "\u001b[0;31m---------------------------------------------------------------------------\u001b[0m",
      "\u001b[0;31mNameError\u001b[0m                                 Traceback (most recent call last)",
      "Cell \u001b[0;32mIn[2], line 24\u001b[0m\n\u001b[1;32m     22\u001b[0m \u001b[39m#headers = lines[0].split(',')\u001b[39;00m\n\u001b[1;32m     23\u001b[0m data_rows \u001b[39m=\u001b[39m [line\u001b[39m.\u001b[39msplit(\u001b[39m'\u001b[39m\u001b[39m,\u001b[39m\u001b[39m'\u001b[39m) \u001b[39mfor\u001b[39;00m line \u001b[39min\u001b[39;00m lines[\u001b[39m0\u001b[39m:]]\n\u001b[0;32m---> 24\u001b[0m data_array \u001b[39m=\u001b[39m np\u001b[39m.\u001b[39marray(data_rows)\n\u001b[1;32m     25\u001b[0m data_array \u001b[39m=\u001b[39m data_array\u001b[39m.\u001b[39mreshape(\u001b[39m4\u001b[39m,\u001b[39m4\u001b[39m,\u001b[39m7\u001b[39m,\u001b[39m2\u001b[39m)\n\u001b[1;32m     26\u001b[0m \u001b[39mprint\u001b[39m(data_array)\n",
      "\u001b[0;31mNameError\u001b[0m: name 'np' is not defined"
     ]
    }
   ],
   "source": [
    "import numpy as np\n",
    "data = \"\"\"\n",
    "8,25,11,21,12,22,12,21,13,23,11,26,15,27\n",
    "8,31,8,26,15,28,-13,27,12,31,14,32,7,26\n",
    "13,29,11,30,7,26,14,27,14,31,12,26,8,32\n",
    "14,25,11,28,9,32,8,27,11,24,7,30,14,23\n",
    "14,32,9,21,10,23,15,23,9,24,10,20,14,23\n",
    "7,28,15,29,11,20,12,20,7,24,12,21,8,30\n",
    "6,20,10,26,11,20,12,31,13,28,13,29,13,22\n",
    "8,27,9,21,11,30,7,20,13,25,10,20,11,28\n",
    "2,19,8,18,3,19,8,22,3,20,4,5,20,4\n",
    "6,19,3,18,3,20,7,22,3,20,4,3,22,3\n",
    "7,18,3,19,2,21,6,20,3,18,8,4,18,7\n",
    "3,22,3,20,4,18,6,21,4,19,5,6,22,7\n",
    "11,18,12,19,-10,20,9,19,8,22,8,71,20,10\n",
    "10,21,8,20,8,19,7,19,10,21,7,12,18,7\n",
    "10,21,8,18,7,21,11,21,10,20,8,10,20,10\n",
    "9,18,10,21,11,19,10,19,10,22,7,11,22,8\"\"\"\n",
    "\n",
    "lines = data.strip().split('\\n')\n",
    "#print(np.shape(lines))\n",
    "print(lines[0])\n",
    "#headers = lines[0].split(',')\n",
    "data_rows = [line.split(',') for line in lines[0:]]\n",
    "data_array = np.array(data_rows)\n",
    "data_array = data_array.reshape(4,4,7,2)\n",
    "print(data_array)\n",
    "print(np.shape(data_array))\n"
   ]
  },
  {
   "cell_type": "code",
   "execution_count": null,
   "id": "c9504dba",
   "metadata": {},
   "outputs": [
    {
     "name": "stdout",
     "output_type": "stream",
     "text": [
      "[[[['8' '25']\n",
      "   ['11' '21']\n",
      "   ['12' '22']\n",
      "   ['12' '21']\n",
      "   ['13' '23']\n",
      "   ['11' '26']\n",
      "   ['15' '27']]\n",
      "\n",
      "  [['8' '31']\n",
      "   ['8' '26']\n",
      "   ['15' '28']\n",
      "   ['-13' '27']\n",
      "   ['12' '31']\n",
      "   ['14' '32']\n",
      "   ['7' '26']]\n",
      "\n",
      "  [['13' '29']\n",
      "   ['11' '30']\n",
      "   ['7' '26']\n",
      "   ['14' '27']\n",
      "   ['14' '31']\n",
      "   ['12' '26']\n",
      "   ['8' '32']]\n",
      "\n",
      "  [['14' '25']\n",
      "   ['11' '28']\n",
      "   ['9' '32']\n",
      "   ['8' '27']\n",
      "   ['11' '24']\n",
      "   ['7' '30']\n",
      "   ['14' '23']]]\n",
      "\n",
      "\n",
      " [[['14' '32']\n",
      "   ['9' '21']\n",
      "   ['10' '23']\n",
      "   ['15' '23']\n",
      "   ['9' '24']\n",
      "   ['10' '20']\n",
      "   ['14' '23']]\n",
      "\n",
      "  [['7' '28']\n",
      "   ['15' '29']\n",
      "   ['11' '20']\n",
      "   ['12' '20']\n",
      "   ['7' '24']\n",
      "   ['12' '21']\n",
      "   ['8' '30']]\n",
      "\n",
      "  [['6' '20']\n",
      "   ['10' '26']\n",
      "   ['11' '20']\n",
      "   ['12' '31']\n",
      "   ['13' '28']\n",
      "   ['13' '29']\n",
      "   ['13' '22']]\n",
      "\n",
      "  [['8' '27']\n",
      "   ['9' '21']\n",
      "   ['11' '30']\n",
      "   ['7' '20']\n",
      "   ['13' '25']\n",
      "   ['10' '20']\n",
      "   ['11' '28']]]\n",
      "\n",
      "\n",
      " [[['2' '19']\n",
      "   ['8' '18']\n",
      "   ['3' '19']\n",
      "   ['8' '22']\n",
      "   ['3' '20']\n",
      "   ['4' '5']\n",
      "   ['20' '4']]\n",
      "\n",
      "  [['6' '19']\n",
      "   ['3' '18']\n",
      "   ['3' '20']\n",
      "   ['7' '22']\n",
      "   ['3' '20']\n",
      "   ['4' '3']\n",
      "   ['22' '3']]\n",
      "\n",
      "  [['7' '18']\n",
      "   ['3' '19']\n",
      "   ['2' '21']\n",
      "   ['6' '20']\n",
      "   ['3' '18']\n",
      "   ['8' '4']\n",
      "   ['18' '7']]\n",
      "\n",
      "  [['3' '22']\n",
      "   ['3' '20']\n",
      "   ['4' '18']\n",
      "   ['6' '21']\n",
      "   ['4' '19']\n",
      "   ['5' '6']\n",
      "   ['22' '7']]]\n",
      "\n",
      "\n",
      " [[['11' '18']\n",
      "   ['12' '19']\n",
      "   ['-10' '20']\n",
      "   ['9' '19']\n",
      "   ['8' '22']\n",
      "   ['8' '71']\n",
      "   ['20' '10']]\n",
      "\n",
      "  [['10' '21']\n",
      "   ['8' '20']\n",
      "   ['8' '19']\n",
      "   ['7' '19']\n",
      "   ['10' '21']\n",
      "   ['7' '12']\n",
      "   ['18' '7']]\n",
      "\n",
      "  [['10' '21']\n",
      "   ['8' '18']\n",
      "   ['7' '21']\n",
      "   ['11' '21']\n",
      "   ['10' '20']\n",
      "   ['8' '10']\n",
      "   ['20' '10']]\n",
      "\n",
      "  [['9' '18']\n",
      "   ['10' '21']\n",
      "   ['11' '19']\n",
      "   ['10' '19']\n",
      "   ['10' '22']\n",
      "   ['7' '11']\n",
      "   ['22' '8']]]]\n",
      "(4, 4, 7, 2)\n",
      "4\n"
     ]
    }
   ],
   "source": [
    "# shape and dimensions\n",
    "print(data_array)\n",
    "\n",
    "print(np.shape(data_array))\n",
    "print(np.ndim(data_array))\n",
    "\n",
    "    "
   ]
  },
  {
   "cell_type": "code",
   "execution_count": null,
   "id": "cd24e16e",
   "metadata": {},
   "outputs": [
    {
     "name": "stdout",
     "output_type": "stream",
     "text": [
      "[['8' '25' '11' '21' '12' '22' '12' '21' '13' '23' '11' '26' '15' '27']\n",
      " ['14' '32' '9' '21' '10' '23' '15' '23' '9' '24' '10' '20' '14' '23']\n",
      " ['2' '19' '8' '18' '3' '19' '8' '22' '3' '20' '4' '5' '20' '4']\n",
      " ['11' '18' '12' '19' '-10' '20' '9' '19' '8' '22' '8' '71' '20' '10']]\n"
     ]
    }
   ],
   "source": [
    "#print(data_array[:,::4,:,:])\n",
    "print(data_array[:][::4][:][:])"
   ]
  },
  {
   "cell_type": "code",
   "execution_count": null,
   "id": "fd0296b1",
   "metadata": {},
   "outputs": [
    {
     "name": "stdout",
     "output_type": "stream",
     "text": [
      "[[[['11' '21']]\n",
      "\n",
      "  [['8' '26']]\n",
      "\n",
      "  [['11' '30']]\n",
      "\n",
      "  [['11' '28']]]\n",
      "\n",
      "\n",
      " [[['9' '21']]\n",
      "\n",
      "  [['15' '29']]\n",
      "\n",
      "  [['10' '26']]\n",
      "\n",
      "  [['9' '21']]]\n",
      "\n",
      "\n",
      " [[['8' '18']]\n",
      "\n",
      "  [['3' '18']]\n",
      "\n",
      "  [['3' '19']]\n",
      "\n",
      "  [['3' '20']]]\n",
      "\n",
      "\n",
      " [[['12' '19']]\n",
      "\n",
      "  [['8' '20']]\n",
      "\n",
      "  [['8' '18']]\n",
      "\n",
      "  [['10' '21']]]]\n"
     ]
    }
   ],
   "source": [
    "\n",
    "print(data_array[:,:,1:2,:])"
   ]
  },
  {
   "cell_type": "code",
   "execution_count": null,
   "id": "17c6c00b",
   "metadata": {},
   "outputs": [],
   "source": []
  },
  {
   "cell_type": "code",
   "execution_count": null,
   "id": "c939a350",
   "metadata": {},
   "outputs": [
    {
     "data": {
      "text/plain": [
       "71"
      ]
     },
     "execution_count": 75,
     "metadata": {},
     "output_type": "execute_result"
    }
   ],
   "source": [
    "#Print only the maximum temperature for all the weekdays of Dec and Feb.\n",
    "subset_array = data_array[1::2,:]\n",
    "subset_array = subset_array.astype(int)\n",
    "np.max(subset_array)"
   ]
  },
  {
   "cell_type": "code",
   "execution_count": 4,
   "id": "9d7f502b",
   "metadata": {},
   "outputs": [
    {
     "ename": "NameError",
     "evalue": "name 'data_array' is not defined",
     "output_type": "error",
     "traceback": [
      "\u001b[0;31m---------------------------------------------------------------------------\u001b[0m",
      "\u001b[0;31mNameError\u001b[0m                                 Traceback (most recent call last)",
      "Cell \u001b[0;32mIn[4], line 3\u001b[0m\n\u001b[1;32m      1\u001b[0m \u001b[39m# Print all the days along with the week number in November when the minimum temperature was less than 8 degrees\u001b[39;00m\n\u001b[1;32m      2\u001b[0m \u001b[39m# out=data_array[::4,:,:,0]\u001b[39;00m\n\u001b[0;32m----> 3\u001b[0m \u001b[39mfor\u001b[39;00m i \u001b[39min\u001b[39;00m data_array:\n\u001b[1;32m      4\u001b[0m     week_number \u001b[39m=\u001b[39m i[\u001b[39m0\u001b[39m, \u001b[39m1\u001b[39m]  \n\u001b[1;32m      5\u001b[0m     daily_temps \u001b[39m=\u001b[39m i[\u001b[39m1\u001b[39m:, \u001b[39m2\u001b[39m::\u001b[39m2\u001b[39m]\u001b[39m.\u001b[39mastype(\u001b[39mint\u001b[39m)\n",
      "\u001b[0;31mNameError\u001b[0m: name 'data_array' is not defined"
     ]
    }
   ],
   "source": [
    "# Print all the days along with the week number in November when the minimum temperature was less than 8 degrees\n",
    "# out=data_array[::4,:,:,0]\n",
    "for i in data_array:\n",
    "    week_number = i[0, 1]  \n",
    "    daily_temps = i[1:, 2::2].astype(int)\n",
    "    days_below_8 = np.where(daily_temps < 8)[0] + 1\n",
    "    print(f\"Week {week_number}: Days with min temp < 8 degrees: {days_below_8}\")\n"
   ]
  },
  {
   "cell_type": "code",
   "execution_count": null,
   "id": "7f78df0f",
   "metadata": {},
   "outputs": [],
   "source": []
  },
  {
   "cell_type": "code",
   "execution_count": null,
   "id": "55b8d9ec",
   "metadata": {},
   "outputs": [],
   "source": []
  }
 ],
 "metadata": {
  "kernelspec": {
   "display_name": "Python 3 (ipykernel)",
   "language": "python",
   "name": "python3"
  },
  "language_info": {
   "codemirror_mode": {
    "name": "ipython",
    "version": 3
   },
   "file_extension": ".py",
   "mimetype": "text/x-python",
   "name": "python",
   "nbconvert_exporter": "python",
   "pygments_lexer": "ipython3",
   "version": "3.11.4"
  }
 },
 "nbformat": 4,
 "nbformat_minor": 5
}
